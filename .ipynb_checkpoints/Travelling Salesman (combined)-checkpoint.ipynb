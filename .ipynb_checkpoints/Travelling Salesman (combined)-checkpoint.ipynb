{
 "cells": [
  {
   "cell_type": "code",
   "execution_count": 8,
   "metadata": {},
   "outputs": [],
   "source": [
    "import numpy as np\n",
    "import matplotlib.pyplot as plt\n",
    "import matplotlib.animation as animate\n",
    "from IPython.display import HTML\n",
    "animate.rcParams['animation.embed_limit'] = 100\n",
    "%matplotlib inline"
   ]
  },
  {
   "cell_type": "code",
   "execution_count": 9,
   "metadata": {},
   "outputs": [],
   "source": [
    "def distance(cities):\n",
    "    city1,city2 = cities,np.roll(cities,-1,axis=1)\n",
    "    x1,y1 = city1[0],city1[1]\n",
    "    x2,y2 = city2[0],city2[1]\n",
    "    d =  np.sqrt((x2-x1)**2+(y2-y1)**2) \n",
    "    return np.sum(d)\n",
    "\n",
    "def newroute(cities):\n",
    "    new_cities = np.copy(cities)\n",
    "    p = np.random.randint(N)\n",
    "    l = np.random.randint(N//2)\n",
    "    new_cities[0][p:p+l+1] = cities[0][p:p+l+1][::-1]\n",
    "    new_cities[1][p:p+l+1] = cities[1][p:p+l+1][::-1]\n",
    "    return new_cities\n",
    "\n",
    "def threshold(cities):\n",
    "    new_cities = newroute(cities)\n",
    "    if distance(new_cities)<=distance(cities):\n",
    "        cities = new_cities\n",
    "    return cities\n",
    "\n",
    "def boltzmann(cities,T):\n",
    "    new_cities = newroute(cities)\n",
    "    if T > distance(new_cities)-distance(cities):\n",
    "        cities = new_cities\n",
    "    return cities\n",
    "\n",
    "def combined_algorithm(cities,T):\n",
    "    new_cities_1 = newroute(cities)\n",
    "    new_cities_2 = newroute(cities)\n",
    "    \n",
    "    if distance(new_cities_1) < distance(new_cities_2) - T:\n",
    "        if distance(new_cities_1) < distance(cities):\n",
    "            cities = new_cities_1\n",
    "    elif  distance(new_cities_1) > distance(new_cities_2) - T:\n",
    "        if distance(new_cities_2) - T < distance(cities):\n",
    "            cities = new_cities_2\n",
    "    #if distance(new_cities_1) < distance(cities): cities = new_cities_1\n",
    "    #elif T > distance(new_cities_2)-distance(cities): cities = new_cities_2\n",
    "    \n",
    "    return cities"
   ]
  },
  {
   "cell_type": "code",
   "execution_count": 26,
   "metadata": {},
   "outputs": [
    {
     "data": {
      "image/png": "[encoded data removed]",
      "text/plain": [
       "<Figure size 2160x504 with 4 Axes>"
      ]
     },
     "metadata": {
      "needs_background": "light"
     },
     "output_type": "display_data"
    }
   ],
   "source": [
    "fig = plt.figure(figsize=(30,7))\n",
    "ax1 = fig.add_subplot(1, 4, 1)\n",
    "ax2 = fig.add_subplot(1, 4, 2)\n",
    "ax3 = fig.add_subplot(1, 4, 3)\n",
    "ax4 = fig.add_subplot(1, 4, 4)\n",
    "im = []"
   ]
  },
  {
   "cell_type": "code",
   "execution_count": 27,
   "metadata": {},
   "outputs": [],
   "source": [
    "L = 1\n",
    "N = 150\n",
    "x, y = [],[]\n",
    "for i in range(N):\n",
    "    x.append(np.random.random())\n",
    "    y.append(np.random.random())\n",
    "\n",
    "old_cities = np.array([np.array(x), np.array(y)])\n",
    "\n",
    "cities_copy = np.copy(old_cities)\n",
    "normalized_length = []\n",
    "Temp = []\n",
    "\n",
    "\n",
    "iterations = 100000\n",
    "T = L/8 #initial temperature\n",
    "for i in np.arange(iterations):\n",
    "    Temp.append(T)\n",
    "    \n",
    "    length = distance(cities_copy)/(L*np.sqrt(N))\n",
    "    normalized_length.append(length)\n",
    "\n",
    "    cities_copy = combined_algorithm(cities_copy,T)\n",
    "    \n",
    "    if i % 100 == 0:\n",
    "        x = np.random.choice([0,1])\n",
    "        if x == 0: T = T - 0.1*T\n",
    "        if x == 1: T = T + 0.1*T\n",
    "        \n",
    "    if i%2000 == 0:\n",
    "        old_cities_plot, = ax1.plot(old_cities[0],old_cities[1],'r-o', animated = True)\n",
    "        cities_copy_plot, = ax2.plot(cities_copy[0],cities_copy[1],'b-o', animated = True)\n",
    "        \n",
    "        plot_length, = ax3.plot(normalized_length, 'g', animated = True)\n",
    "        annealing_sched, = ax4.plot(Temp, animated = True)\n",
    "        \n",
    "        plot_label = ax2.annotate('Normalized Length = ' + str(length), xy=(1.4, 1.1), xycoords='data', annotation_clip=False)\n",
    "        aneealing_label = ax4.annotate('Annealing Schedule', xy=(2.8, 1.1), xycoords='data', annotation_clip=False)\n",
    "        \n",
    "        ax3.set_xlabel('Iteration')\n",
    "        ax3.set_ylabel('Normalized Length')\n",
    "        \n",
    "        ax4.set_xlabel('Iteration')\n",
    "        ax4.set_ylabel('Temperature')\n",
    "        \n",
    "        title_1 = ax1.annotate('Original Network', xy=(0, 1.1), xycoords='data', annotation_clip=False)\n",
    "        title_2 = ax2.annotate('Boltzmann and Threshold Algorithm', xy=(0, 1.1), xycoords='data', annotation_clip=False)\n",
    "        \n",
    "        im.append([old_cities_plot, cities_copy_plot, plot_length, title_1, title_2, plot_label,aneealing_label,annealing_sched])"
   ]
  },
  {
   "cell_type": "code",
   "execution_count": null,
   "metadata": {},
   "outputs": [],
   "source": [
    "ani = animate.ArtistAnimation(fig, im, interval = 150, blit = True)\n",
    "HTML(ani.to_jshtml(fps=5))"
   ]
  },
  {
   "cell_type": "code",
   "execution_count": null,
   "metadata": {},
   "outputs": [],
   "source": []
  }
 ],
 "metadata": {
  "kernelspec": {
   "display_name": "Python 3",
   "language": "python",
   "name": "python3"
  },
  "language_info": {
   "codemirror_mode": {
    "name": "ipython",
    "version": 3
   },
   "file_extension": ".py",
   "mimetype": "text/x-python",
   "name": "python",
   "nbconvert_exporter": "python",
   "pygments_lexer": "ipython3",
   "version": "3.6.6"
  }
 },
 "nbformat": 4,
 "nbformat_minor": 2
}
